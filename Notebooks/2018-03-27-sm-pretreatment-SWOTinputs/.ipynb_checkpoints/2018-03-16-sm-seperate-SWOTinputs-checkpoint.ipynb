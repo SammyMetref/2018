{
 "cells": [
  {
   "cell_type": "code",
   "execution_count": 1,
   "metadata": {},
   "outputs": [
    {
     "name": "stdout",
     "output_type": "stream",
     "text": [
      "3.6.3 | packaged by conda-forge | (default, Nov  4 2017, 10:10:56) \n",
      "[GCC 4.8.2 20140120 (Red Hat 4.8.2-15)]\n"
     ]
    }
   ],
   "source": [
    "import sys\n",
    "print (sys.version)"
   ]
  },
  {
   "cell_type": "code",
   "execution_count": 2,
   "metadata": {},
   "outputs": [],
   "source": [
    "%matplotlib inline\n",
    "import sys,os,shutil\n",
    "sys.path.insert(0,'/Users/sammymetref/Documents/Boost-Swot/Notebooks/GitHub/Personal_Files/2018/Scripts/2018-03-15-sm-qgsw-DI-master-modified/') \n",
    "import numpy as np\n",
    "import matplotlib.pylab as plt\n",
    "import time\n",
    "import netCDF4 as nc \n",
    "from datetime import datetime\n",
    "from datetime import timedelta\n",
    "import os"
   ]
  },
  {
   "cell_type": "code",
   "execution_count": null,
   "metadata": {},
   "outputs": [],
   "source": [
    "# Daily data\n",
    "# Initial and present date\n",
    "init_date=datetime(2012,6,14,0) # (yyyy,mm,dd,hh)\n",
    "present_date=init_date \n",
    "# Final date\n",
    "final_date=datetime(2012,7,14,0) # (yyyy,mm,dd,hh) \n",
    "# Assimilation time step\n",
    "assimilation_time_step=timedelta(days=1)   \n",
    " \n",
    "path='/home/jovyan/work/Boost-SWOT/2018/SwotSimulator/example/input_fields/'\n",
    "name_original_file=path+'NATL60OSMO-CJM165_y2012m06d14-y2013m10d01.1d_SST-SSH.nc'   \n",
    " \n",
    "\n",
    "if True: \n",
    "    itime=0\n",
    "    while present_date<final_date :\n",
    "        name_file=path+'NATL60OSMO-CJM165_y'+str(present_date.year).zfill(4)+'m'+str(present_date.month).zfill(2)+'d'+str(present_date.day).zfill(2)+'.1d_SST-SSH.nc'\n",
    "        stringitime=str(itime) \n",
    "        cmd=\"ncks -d time_counter,\"+stringitime+\",\"+stringitime+\" \"+name_original_file+\" \"+name_file\n",
    "        os.system(cmd) \n",
    "\n",
    "        itime=itime+1\n",
    "        present_date=present_date+assimilation_time_step  "
   ]
  },
  {
   "cell_type": "code",
   "execution_count": 3,
   "metadata": {
    "scrolled": false
   },
   "outputs": [
    {
     "name": "stdout",
     "output_type": "stream",
     "text": [
      "ncks -d time_counter,0,0 /mnt/meom/MODEL_SET/NATL60/NATL60-CJM165-S/1h/OSMOSIS/NATL60OSMO-CJM165_y2012m10.1h_SSHdegrad.nc /mnt/meom/workdir/metrefs/Boost-SWOT/2018/DATA/OSMOSIS/QGSWOSMO-IniNATL60_1h/NATL60OSMO-CJM165_y2012m10d01h00.1h_SSHdegrad.nc\n"
     ]
    }
   ],
   "source": [
    "# Hourly data\n",
    "# Initial and present date\n",
    "init_date=datetime(2012,10,1,0) # (yyyy,mm,dd,hh)\n",
    "present_date=init_date \n",
    "# Final date\n",
    "final_date=datetime(2012,10,1,1) # (yyyy,mm,dd,hh) \n",
    "# Assimilation time step\n",
    "assimilation_time_step=timedelta(hours=1)   \n",
    " \n",
    "path1='/mnt/meom/MODEL_SET/NATL60/NATL60-CJM165-S/1h/OSMOSIS/' \n",
    "\n",
    "path2='/home/jovyan/work/Boost-SWOT/2018/SwotSimulator/example/input_fields/'\n",
    "path2='/mnt/meom/workdir/metrefs/Boost-SWOT/2018/DATA/OSMOSIS/QGSWOSMO-IniNATL60_1h/'\n",
    "  \n",
    "if True: \n",
    "    itime=0\n",
    "    while present_date<final_date :\n",
    "        name_original_file=path1+'NATL60OSMO-CJM165_y'+str(present_date.year).zfill(4)+'m'+str(present_date.month).zfill(2)+'.1h_SSHdegrad.nc'  \n",
    "        name_file=path2+'NATL60OSMO-CJM165_y'+str(present_date.year).zfill(4)+'m'+str(present_date.month).zfill(2)+'d'+str(present_date.day).zfill(2)+'h'+str(present_date.hour).zfill(2)+'.1h_SSHdegrad.nc'\n",
    "        stringitime=str(itime) \n",
    "        cmd=\"ncks -d time_counter,\"+stringitime+\",\"+stringitime+\" \"+name_original_file+\" \"+name_file \n",
    "        os.system(cmd) \n",
    "        print(cmd)\n",
    "\n",
    "        itime=itime+1\n",
    "        if present_date.month!=(present_date+assimilation_time_step).month:\n",
    "            itime=0\n",
    "        present_date=present_date+assimilation_time_step  "
   ]
  },
  {
   "cell_type": "code",
   "execution_count": null,
   "metadata": {},
   "outputs": [],
   "source": []
  }
 ],
 "metadata": {
  "kernelspec": {
   "display_name": "Python 3",
   "language": "python",
   "name": "python3"
  },
  "language_info": {
   "codemirror_mode": {
    "name": "ipython",
    "version": 3
   },
   "file_extension": ".py",
   "mimetype": "text/x-python",
   "name": "python",
   "nbconvert_exporter": "python",
   "pygments_lexer": "ipython3",
   "version": "3.6.3"
  }
 },
 "nbformat": 4,
 "nbformat_minor": 2
}
