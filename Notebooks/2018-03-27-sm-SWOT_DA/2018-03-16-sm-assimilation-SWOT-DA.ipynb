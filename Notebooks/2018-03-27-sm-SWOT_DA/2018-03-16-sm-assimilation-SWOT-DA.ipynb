{
 "cells": [
  {
   "cell_type": "markdown",
   "metadata": {},
   "source": [
    "# Assimilation of SWOT data \n",
    "\n",
    "## Software version\n"
   ]
  },
  {
   "cell_type": "code",
   "execution_count": 1,
   "metadata": {},
   "outputs": [
    {
     "name": "stdout",
     "output_type": "stream",
     "text": [
      "3.6.3 | packaged by conda-forge | (default, Nov  4 2017, 10:10:56) \n",
      "[GCC 4.8.2 20140120 (Red Hat 4.8.2-15)]\n"
     ]
    }
   ],
   "source": [
    "import sys\n",
    "print (sys.version)\n"
   ]
  },
  {
   "cell_type": "markdown",
   "metadata": {},
   "source": [
    "## Imports"
   ]
  },
  {
   "cell_type": "code",
   "execution_count": 2,
   "metadata": {},
   "outputs": [],
   "source": [
    "%matplotlib inline  \n",
    "from params import *"
   ]
  },
  {
   "cell_type": "markdown",
   "metadata": {},
   "source": [
    "## Initialization "
   ]
  },
  {
   "cell_type": "code",
   "execution_count": 3,
   "metadata": {},
   "outputs": [],
   "source": [
    "# Calling initialization module    \n",
    "state_vectors0_names=Initialization(initialization,n_ensemble) "
   ]
  },
  {
   "cell_type": "markdown",
   "metadata": {},
   "source": [
    "## Time loop"
   ]
  },
  {
   "cell_type": "code",
   "execution_count": null,
   "metadata": {
    "scrolled": false
   },
   "outputs": [
    {
     "name": "stdout",
     "output_type": "stream",
     "text": [
      "2012-10-01 06:00:00\n",
      "2012-10-01 12:00:00\n",
      "2012-10-01 18:00:00\n",
      "2012-10-02 00:00:00\n",
      "Analysis in progress: DirectInsertion\n",
      "2012-10-02 06:00:00\n",
      "2012-10-02 12:00:00\n",
      "2012-10-02 18:00:00\n",
      "2012-10-03 00:00:00\n",
      "Analysis in progress: DirectInsertion\n",
      "2012-10-03 06:00:00\n",
      "2012-10-03 12:00:00\n",
      "2012-10-03 18:00:00\n",
      "2012-10-04 00:00:00\n",
      "Analysis in progress: DirectInsertion\n",
      "2012-10-04 06:00:00\n",
      "2012-10-04 12:00:00\n",
      "Analysis in progress: DirectInsertion\n"
     ]
    }
   ],
   "source": [
    "##################################\n",
    "# Time assessment initialization #\n",
    "t0 = time.time()                 #\n",
    "##################################\n",
    "\n",
    "# Cycle counter initialization\n",
    "i_cycle=1\n",
    "current_cycle=present_date\n",
    "\n",
    "while present_date<final_date :\n",
    "     \n",
    "    ####################\n",
    "    # 3.1. Propagation #\n",
    "    ####################\n",
    "    # Model propagation  \n",
    "    state_vectors_names=EnsembleModel(model,state_vectors0_names,n_ensemble,assimilation_time_step.total_seconds(),state_vectors_names)\n",
    "    # Time update\n",
    "    present_date=present_date+assimilation_time_step\n",
    "    \n",
    "    # Check in which cycle is present_date\n",
    "    if (present_date-current_cycle)>cycle_time:\n",
    "        current_cycle=current_cycle+cycle_time\n",
    "        i_cycle=i_cycle+1\n",
    "        \n",
    "    ##########################\n",
    "    # 3.2. Observation check #\n",
    "    ##########################  \n",
    "    [obs_avail, obs_name_list]=ObservationCheck(present_date,assimilation_time_step,obs_path,obs_prefixe,i_cycle,pass_names,init_obs_date)\n",
    "\n",
    "    #################\n",
    "    # 3.3. Analysis #\n",
    "    ################# \n",
    "    if obs_avail :    \n",
    "        print(present_date)\n",
    "        for obs_name in obs_name_list: \n",
    "            print('Analysis in progress: '+name_analysis)\n",
    "            analyzed_vectors_names=Analysis(analysisop,state_vectors_names,obs_name,tmp_DA_path,sosie_path,name_sosie_output,name_sosie_map,n_ensemble,obsoperator)\n",
    "    else: \n",
    "        print(present_date)\n",
    "        analyzed_vectors_names=state_vectors_names\n",
    "            \n",
    "    #################\n",
    "    # 3.4. Outputs  #\n",
    "    ################# \n",
    "    #print('Output in progress')\n",
    "    \n",
    "    if saveoutputs :\n",
    "        Save_present_time_outputs(analyzed_vectors_names,n_ensemble,present_date)\n",
    "        \n",
    "    ###############################\n",
    "    # Re-initialize state vectors #\n",
    "    ###############################\n",
    "    Reinitialization(state_vectors0_names,analyzed_vectors_names)\n",
    "        \n",
    "         \n",
    "        \n",
    "################################\n",
    "# Time assessment finalization #   \n",
    "t1 = time.time()               #\n",
    "total = t1-t0                  #\n",
    "print('Computation time')      #\n",
    "print(total)                   #\n",
    "################################"
   ]
  }
 ],
 "metadata": {
  "kernelspec": {
   "display_name": "Python 3",
   "language": "python",
   "name": "python3"
  },
  "language_info": {
   "codemirror_mode": {
    "name": "ipython",
    "version": 3
   },
   "file_extension": ".py",
   "mimetype": "text/x-python",
   "name": "python",
   "nbconvert_exporter": "python",
   "pygments_lexer": "ipython3",
   "version": "3.6.3"
  }
 },
 "nbformat": 4,
 "nbformat_minor": 2
}
