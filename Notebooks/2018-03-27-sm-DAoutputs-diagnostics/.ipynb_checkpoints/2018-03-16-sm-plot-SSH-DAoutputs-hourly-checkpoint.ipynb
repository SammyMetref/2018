{
 "cells": [
  {
   "cell_type": "markdown",
   "metadata": {},
   "source": [
    "------------\n",
    "\n",
    "# Plot SSH DA products and compare to NATL60 SSH\n",
    "\n",
    "------------\n"
   ]
  },
  {
   "cell_type": "markdown",
   "metadata": {},
   "source": [
    "-------------\n",
    "## Summary\n",
    "-------------\n",
    "\n",
    "1. Software version \n",
    "2. Library importation\n",
    "3. Setting parameter\n",
    "    - 3.1. Time parameters\n",
    "    - 3.2. DA products to evaluate \n",
    "4. Loading files\n",
    "    - 4.1. Ensemble forecast (free run)\n",
    "    - 4.2. SSH - DA products\n",
    "    - 4.3. NATL60 SSH (reference)\n",
    "5. Diagnostics\n",
    "    - 5.1. 2D - Plots of ensemble mean SSH (at 3 time steps)\n",
    "    - 5.2. 2D - Plots of point-to-point differences (DA products - NATL60)\n",
    "    - 5.3. RMSE and normalized RMSE plots with time \n",
    "        * 5.3.1. Computing RMSE\n",
    "        * 5.3.2. Plotting RMSE\n",
    "    - 5.4. Spectral coherence"
   ]
  },
  {
   "cell_type": "markdown",
   "metadata": {},
   "source": [
    "------------\n",
    "## 1. Software version "
   ]
  },
  {
   "cell_type": "code",
   "execution_count": 1,
   "metadata": {},
   "outputs": [
    {
     "name": "stdout",
     "output_type": "stream",
     "text": [
      "3.6.3 | packaged by conda-forge | (default, Nov  4 2017, 10:10:56) \n",
      "[GCC 4.8.2 20140120 (Red Hat 4.8.2-15)]\n"
     ]
    }
   ],
   "source": [
    "import sys\n",
    "print (sys.version)"
   ]
  },
  {
   "cell_type": "markdown",
   "metadata": {},
   "source": [
    "---------------\n",
    "## 2. Library importation"
   ]
  },
  {
   "cell_type": "code",
   "execution_count": 2,
   "metadata": {},
   "outputs": [],
   "source": [
    "%matplotlib inline\n",
    "import sys,os,shutil\n",
    "import numpy as np\n",
    "import matplotlib.pylab as plt\n",
    "import time\n",
    "import netCDF4 as nc \n",
    "from datetime import datetime\n",
    "from datetime import timedelta\n",
    "from dateutil.relativedelta import relativedelta \n",
    "import scipy\n",
    "from scipy import signal \n",
    "import pdb\n",
    "from math import pi\n",
    "from scipy.fftpack import fft\n",
    "\n",
    "from Diagnostics import *\n",
    "from LoadingFiles import *"
   ]
  },
  {
   "cell_type": "markdown",
   "metadata": {},
   "source": [
    "------------\n",
    "## 3. Setting parameters"
   ]
  },
  {
   "cell_type": "markdown",
   "metadata": {},
   "source": [
    "### 3.1. Time parameters"
   ]
  },
  {
   "cell_type": "code",
   "execution_count": 3,
   "metadata": {},
   "outputs": [],
   "source": [
    "# Initial (and current) date\n",
    "init_date=datetime(2012,10,1,1)\n",
    "present_date=init_date\n",
    "# Final date\n",
    "final_date=datetime(2012,10,5,0)\n",
    "# Output frequency\n",
    "deltat=timedelta(days=1)/24\n",
    "# Number of time steps\n",
    "ntime=int( (final_date-present_date).days*24/(deltat.seconds/3600)+(final_date-present_date).seconds/3600/(deltat.seconds/3600)+1 )\n",
    "# Number of ensemble members\n",
    "nens=1 "
   ]
  },
  {
   "cell_type": "markdown",
   "metadata": {},
   "source": [
    "### 3.2. DA runs to evaluate"
   ]
  },
  {
   "cell_type": "code",
   "execution_count": 4,
   "metadata": {},
   "outputs": [],
   "source": [
    "nameDAprods=['NATL60_hourly-3hDirectInsertion_01ens','NoisyNATL60state0.001_hourly-3hDirectInsertion_05ens'] "
   ]
  },
  {
   "cell_type": "markdown",
   "metadata": {},
   "source": [
    "------------\n",
    "## 4. Loading files"
   ]
  },
  {
   "cell_type": "markdown",
   "metadata": {},
   "source": [
    "### 4.1.  Ensemble forecast (free run)"
   ]
  },
  {
   "cell_type": "code",
   "execution_count": 5,
   "metadata": {},
   "outputs": [
    {
     "name": "stdout",
     "output_type": "stream",
     "text": [
      "(96, 1, 301, 175)\n"
     ]
    }
   ],
   "source": [
    "[SSH_Ensforecast,lon2d,lat2d]=LoadEnsforecast(init_date,final_date,deltat,ntime,nens)\n",
    "print(np.shape(SSH_Ensforecast))"
   ]
  },
  {
   "cell_type": "markdown",
   "metadata": {},
   "source": [
    "### 4.2. SSH DA products"
   ]
  },
  {
   "cell_type": "code",
   "execution_count": 6,
   "metadata": {},
   "outputs": [
    {
     "name": "stdout",
     "output_type": "stream",
     "text": [
      "(2, 96, 301, 175)\n"
     ]
    }
   ],
   "source": [
    "SSH_DAprods,lon2d,lat2d=LoadEnsSSHDAprod(init_date,final_date,deltat,ntime,nameDAprods)\n",
    "print(np.shape(SSH_DAprods))"
   ]
  },
  {
   "cell_type": "markdown",
   "metadata": {},
   "source": [
    "### 4.3. NATL60 SSH (reference)"
   ]
  },
  {
   "cell_type": "code",
   "execution_count": 7,
   "metadata": {},
   "outputs": [
    {
     "name": "stdout",
     "output_type": "stream",
     "text": [
      "(96, 301, 175)\n"
     ]
    }
   ],
   "source": [
    "SSH_NATL60_degrad=LoadingNATL60SSH(final_date,deltat,ntime)\n",
    "print(np.shape(SSH_NATL60_degrad))"
   ]
  },
  {
   "cell_type": "markdown",
   "metadata": {},
   "source": [
    "------------\n",
    "## 5. Diagnostics"
   ]
  },
  {
   "cell_type": "markdown",
   "metadata": {},
   "source": [
    "### 5.1. 2D - Plots of ensemble mean SSH (at 3 time steps)"
   ]
  },
  {
   "cell_type": "code",
   "execution_count": null,
   "metadata": {
    "scrolled": false
   },
   "outputs": [],
   "source": [
    "PlotSSH(SSH_DAprods,nameDAprods,SSH_Ensforecast,lon2d,lat2d,ntime) "
   ]
  },
  {
   "cell_type": "markdown",
   "metadata": {},
   "source": [
    "### 5.2. 2D - Plots of point-to-point differences (DA outputs-NATL60)"
   ]
  },
  {
   "cell_type": "code",
   "execution_count": null,
   "metadata": {
    "scrolled": false
   },
   "outputs": [],
   "source": [
    "PlotPt2PtDiff(SSH_DAprods,nameDAprods,SSH_Ensforecast,SSH_NATL60_degrad,lon2d,lat2d,ntime)"
   ]
  },
  {
   "cell_type": "markdown",
   "metadata": {},
   "source": [
    "### 5.3. RMSE and normalized RMSE plots with time "
   ]
  },
  {
   "cell_type": "markdown",
   "metadata": {},
   "source": [
    "#### 5.3.1. Computing RMSE"
   ]
  },
  {
   "cell_type": "code",
   "execution_count": null,
   "metadata": {},
   "outputs": [],
   "source": [
    "[RMSE_DAs,nRMSE_DAs,RMSE_Free,nRMSE_Free]=ComputingRMSE(SSH_NATL60_degrad,SSH_DAprods,nameDAprods,SSH_Ensforecast,ntime)"
   ]
  },
  {
   "cell_type": "markdown",
   "metadata": {},
   "source": [
    "#### 5.3.2. Plotting RMSE"
   ]
  },
  {
   "cell_type": "code",
   "execution_count": null,
   "metadata": {
    "scrolled": false
   },
   "outputs": [],
   "source": [
    "PlotRMSE(RMSE_DAs,nRMSE_DAs,RMSE_Free,nRMSE_Free,nameDAprods)"
   ]
  },
  {
   "cell_type": "markdown",
   "metadata": {},
   "source": [
    "### 5.4. Spectral coherence"
   ]
  },
  {
   "cell_type": "code",
   "execution_count": null,
   "metadata": {},
   "outputs": [],
   "source": [
    "time_cpsd=90\n",
    "i_ens=0\n",
    "lon_cpsd=10\n",
    "lat_cpsd=range(np.shape(lat2d)[1]-1)\n",
    "\n",
    "slice_1D_SSH_NATL60_degrad=SSH_NATL60_degrad[time_cpsd,lon_cpsd,lat_cpsd]\n",
    "slice_1D_SSH_Ensforecast=SSH_Ensforecast[time_cpsd,i_ens,lon_cpsd,lat_cpsd]\n",
    " \n",
    "slice_1D_SSH_DAprod=[]\n",
    "for i_DAprod in range(np.shape(nameDAprods)[0]):\n",
    "    SSH_DAprod=SSH_DAprods[i_DAprod] \n",
    "    slice_1D_SSH_DAprod.append(SSH_DAprod[time_cpsd,lon_cpsd,lat_cpsd])\n",
    "\n",
    "if False:\n",
    "    plt.figure(figsize=(15, 5)) \n",
    "    plt.plot(lat2d[1],slice_1D_SSH_NATL60_degrad,label='NATL60')\n",
    "    plt.plot(lat2d[1],slice_1D_SSH_Ensforecast,label='Free')\n",
    "    for i_DAprod in range(np.shape(nameDAprods)[0]):\n",
    "        slice_1D_SSH_DAprod0=slice_1D_SSH_DAprod[i_DAprod]\n",
    "        plt.plot(lat2d[1],slice_1D_SSH_DAprod0,label=nameDAprods[i_DAprod])\n",
    "    plt.legend()\n",
    "    plt.xlabel('lat')\n",
    "    plt.ylabel('SSH (m)') \n",
    "    plt.title('SSH along lon=%s'%lon_cpsd)\n",
    "    \n",
    "ff_NATL60_DA=[]\n",
    "C_NATL60_DA=[]\n",
    "for i_DAprod in range(np.shape(nameDAprods)[0]):\n",
    "    slice_1D_SSH_DAprod0=slice_1D_SSH_DAprod[i_DAprod]\n",
    "    ff_NATL60_DA0, C_NATL60_DA0 = cpsd1d(hh1=slice_1D_SSH_NATL60_degrad,hh2=slice_1D_SSH_DAprod0,dx=1.,tap=0.05, detrend=True)\n",
    "    ff_NATL60_DA.append(ff_NATL60_DA0)\n",
    "    C_NATL60_DA.append(C_NATL60_DA0)\n",
    "ff_NATL60_Free, C_NATL60_Free = cpsd1d(hh1=slice_1D_SSH_NATL60_degrad,hh2=slice_1D_SSH_Ensforecast,dx=1.,tap=0.05, detrend=True)\n",
    " \n",
    "if True:\n",
    "    plt.figure(figsize=(15, 5)) \n",
    "    for i_DAprod in range(np.shape(nameDAprods)[0]):\n",
    "        ff_NATL60_DA0=ff_NATL60_DA[i_DAprod] \n",
    "        C_NATL60_DA0=C_NATL60_DA[i_DAprod] \n",
    "        plt.semilogx(ff_NATL60_DA0,C_NATL60_DA0,label='NATL60-'+nameDAprods[i_DAprod])\n",
    "    plt.semilogx(ff_NATL60_Free,C_NATL60_Free,label='NATL60-Free') \n",
    "    plt.legend()\n",
    "    plt.xlabel('Freq.')\n",
    "    plt.ylabel('psd') \n",
    "    plt.title('Spatial coherence along lon=%s'%lon_cpsd)"
   ]
  },
  {
   "cell_type": "code",
   "execution_count": null,
   "metadata": {},
   "outputs": [],
   "source": [
    "print(np.shape(nameDAprods)[0])"
   ]
  },
  {
   "cell_type": "code",
   "execution_count": null,
   "metadata": {},
   "outputs": [],
   "source": []
  }
 ],
 "metadata": {
  "kernelspec": {
   "display_name": "Python 3",
   "language": "python",
   "name": "python3"
  },
  "language_info": {
   "codemirror_mode": {
    "name": "ipython",
    "version": 3
   },
   "file_extension": ".py",
   "mimetype": "text/x-python",
   "name": "python",
   "nbconvert_exporter": "python",
   "pygments_lexer": "ipython3",
   "version": "3.6.3"
  }
 },
 "nbformat": 4,
 "nbformat_minor": 2
}
